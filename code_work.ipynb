{
 "cells": [
  {
   "cell_type": "markdown",
   "id": "2e11c95b",
   "metadata": {},
   "source": [
    "# Amazon reviews: Kindle Store Category"
   ]
  },
  {
   "cell_type": "markdown",
   "id": "33aa5257",
   "metadata": {},
   "source": [
    "# Instructions ⚠\n",
    "- Do not use \"Run All\" because the code logic varies in different sections of this article.\n",
    "- Running the code in each Cell in sequential order is OK."
   ]
  },
  {
   "cell_type": "markdown",
   "id": "50a6dbc5",
   "metadata": {},
   "source": [
    "## Observation data\n",
    "\n",
    "Use the pandas library to read the data set (kindle_review.csv)."
   ]
  },
  {
   "cell_type": "code",
   "execution_count": 16,
   "id": "cfa2c9f5",
   "metadata": {},
   "outputs": [],
   "source": [
    "import pandas as pd\n",
    "data = pd.read_csv('./kindle_reviews.csv')"
   ]
  },
  {
   "cell_type": "markdown",
   "id": "735c3e59",
   "metadata": {},
   "source": [
    "View data set dimensions (number of rows, number of columns)"
   ]
  },
  {
   "cell_type": "code",
   "execution_count": 17,
   "id": "b4c327cf",
   "metadata": {},
   "outputs": [
    {
     "data": {
      "text/plain": [
       "(982619, 10)"
      ]
     },
     "execution_count": 17,
     "metadata": {},
     "output_type": "execute_result"
    }
   ],
   "source": [
    "data.shape"
   ]
  },
  {
   "cell_type": "markdown",
   "id": "4ecb272f",
   "metadata": {},
   "source": [
    "View column name"
   ]
  },
  {
   "cell_type": "code",
   "execution_count": 18,
   "id": "a946bc3d",
   "metadata": {},
   "outputs": [
    {
     "data": {
      "text/plain": [
       "Index(['Unnamed: 0', 'asin', 'helpful', 'overall', 'reviewText', 'reviewTime',\n",
       "       'reviewerID', 'reviewerName', 'summary', 'unixReviewTime'],\n",
       "      dtype='object')"
      ]
     },
     "execution_count": 18,
     "metadata": {},
     "output_type": "execute_result"
    }
   ],
   "source": [
    "data.columns"
   ]
  },
  {
   "cell_type": "markdown",
   "id": "58842bfa",
   "metadata": {},
   "source": [
    "\"Unnamed: 0\" is the serial number automatically generated after the original data is processed by pandas, which can be deleted.\n",
    "> axis: {0 or ‘index’, 1 or ‘columns’}, default 0\n",
    "> Whether to drop labels from the index (0 or ‘index’) or columns (1 or ‘columns’)."
   ]
  },
  {
   "cell_type": "code",
   "execution_count": 19,
   "id": "91582a29",
   "metadata": {},
   "outputs": [],
   "source": [
    "data = data.drop('Unnamed: 0',axis='columns')"
   ]
  },
  {
   "cell_type": "markdown",
   "id": "affd451c",
   "metadata": {},
   "source": [
    "Check to see if the first column has been deleted"
   ]
  },
  {
   "cell_type": "code",
   "execution_count": 20,
   "id": "f86d0233",
   "metadata": {},
   "outputs": [
    {
     "data": {
      "text/plain": [
       "Index(['asin', 'helpful', 'overall', 'reviewText', 'reviewTime', 'reviewerID',\n",
       "       'reviewerName', 'summary', 'unixReviewTime'],\n",
       "      dtype='object')"
      ]
     },
     "execution_count": 20,
     "metadata": {},
     "output_type": "execute_result"
    }
   ],
   "source": [
    "data.columns"
   ]
  },
  {
   "cell_type": "markdown",
   "id": "2557cb47",
   "metadata": {},
   "source": [
    "Some data is not fixed length, you need to view the maximum length of various data"
   ]
  },
  {
   "cell_type": "code",
   "execution_count": 52,
   "id": "15896a5a",
   "metadata": {},
   "outputs": [
    {
     "name": "stdout",
     "output_type": "stream",
     "text": [
      "max length of asin is 10\n",
      "max length of reviewText is 23037\n",
      "max length of reviewerID is 21\n",
      "max length of reviewerName is 49\n",
      "max length of summary is 325\n"
     ]
    }
   ],
   "source": [
    "# Take each column, measure the length of all the rows below it, store it in the list, and find the maximum length\n",
    "for col in ['asin', 'reviewText', 'reviewerID','reviewerName', 'summary']:\n",
    "    # Some of the data contains numbers that need to be turned into the string str\n",
    "    max_length = max([len(str(i)) for i in data[col]])\n",
    "    print(f'max length of {col} is {max_length}')\n"
   ]
  },
  {
   "cell_type": "markdown",
   "id": "936df61d",
   "metadata": {},
   "source": [
    "Some columns may have empty (NaN) data in them and need to be marked and set to before inserting into the database"
   ]
  },
  {
   "cell_type": "code",
   "execution_count": 153,
   "id": "547ade2f",
   "metadata": {},
   "outputs": [
    {
     "name": "stdout",
     "output_type": "stream",
     "text": [
      "reviewText\n",
      "reviewerName\n",
      "summary\n"
     ]
    }
   ],
   "source": [
    "cols = ['asin', 'helpful', 'overall','reviewText','reviewTime','reviewerID','reviewerName','summary','unixReviewTime']\n",
    "for col in cols:\n",
    "    if data[col].isnull().values.any():    \n",
    "        print(col)"
   ]
  },
  {
   "cell_type": "markdown",
   "id": "28a141c3",
   "metadata": {},
   "source": [
    "## Entity Relationship Analysis\n",
    "\n",
    "This data set of entities have **Customer** and **Book**, There is a **buying relationship** between the customer and the book, **The purchase relationship** is derived from the evaluation.\n",
    "\n",
    "The attributes of a Customer are:\n",
    "| | attribute column name | format\n",
    "|--|--|--|\n",
    "| | ID reviewerID | | string length for the 20 or so\n",
    "| | | name reviewerName | strings\n",
    "\n",
    "The properties of a Book are:\n",
    "| | | attribute column name | format\n",
    "|--|--|--|\n",
    "| | ID asin (Amazon Standard Identification Number) | length of ten strings\n",
    "\n",
    "The attributes of Review are:\n",
    "| | | attribute column name | format\n",
    "|--|--|--|\n",
    "| | useful degree helpful [digital, digital] | | list\n",
    "| | | score overall | Numbers\n",
    "Evaluation words | | reviewText | string, longer |\n",
    "| | | evaluation date reviewTime | strings\n",
    "Short summary | | evaluation summary | string, |\n",
    "Evaluation timestamp | | unixReviewTime for UNIX timestamp | | format"
   ]
  },
  {
   "cell_type": "markdown",
   "id": "511bea11",
   "metadata": {},
   "source": [
    "## create database\n",
    "Use SQLAlchemy to manipulate the database.\n",
    "\n",
    "Test database connection, query all databases on MySQL."
   ]
  },
  {
   "cell_type": "code",
   "execution_count": null,
   "id": "090d8e80",
   "metadata": {
    "ExecuteTime": {
     "end_time": "2023-04-05T18:22:22.209209Z",
     "start_time": "2023-04-05T18:22:21.878929Z"
    }
   },
   "outputs": [],
   "source": [
    "from sqlalchemy import create_engine\n",
    "from sqlalchemy import text\n",
    "engine = create_engine('mysql+pymysql://用户名:密码@IP地址:端口号/数据库')\n",
    "with engine.connect() as conn:\n",
    "    query = 'show databases'\n",
    "    print(conn.execute(text(query)).fetchall())"
   ]
  },
  {
   "cell_type": "markdown",
   "id": "a1f1741c",
   "metadata": {},
   "source": [
    "### Definition model"
   ]
  },
  {
   "cell_type": "code",
   "execution_count": 3,
   "id": "ca6770bb",
   "metadata": {},
   "outputs": [],
   "source": [
    "from sqlalchemy import Column\n",
    "from sqlalchemy import create_engine\n",
    "from sqlalchemy import String, Text, Date, DateTime, Integer\n",
    "from sqlalchemy import ForeignKey\n",
    "from sqlalchemy.orm import declarative_base\n",
    "from sqlalchemy.orm import Mapped\n",
    "from sqlalchemy import text\n",
    "from datetime import datetime\n",
    "\n",
    "\n",
    "Base = declarative_base()\n",
    "\n",
    "# max length of asin is 10\n",
    "# max length of reviewText is 23037\n",
    "# max length of reviewerID is 21\n",
    "# max length of reviewerName is 49\n",
    "# max length of summary is 325\n",
    "\n",
    "\n",
    "class Customer(Base):\n",
    "    __tablename__ = 'customer'\n",
    "    id = Column(String(30), primary_key=True)\n",
    "    name = Column(String(100))\n",
    "\n",
    "    def __repr__(self) -> str:\n",
    "        return f'id:{self.id},name:{self.name}'\n",
    "\n",
    "\n",
    "class Book(Base):\n",
    "    __tablename__ = 'book'\n",
    "    id = Column(String(10), primary_key=True)\n",
    "\n",
    "    def __repr__(self) -> str:\n",
    "        return f'id:{self.id}'\n",
    "\n",
    "\n",
    "class Review(Base):\n",
    "    __tablename__ = 'review'\n",
    "    customer_id = Column(ForeignKey('customer.id'), primary_key=True)\n",
    "    book_id = Column(ForeignKey('book.id'), primary_key=True)\n",
    "    review_text = Column(Text)\n",
    "    review_time = Column(Date)\n",
    "    helpful = Column(Integer)\n",
    "    not_helpful = Column(Integer)\n",
    "    summary = Column(Text)\n",
    "    unix_time_stamp = Column(DateTime)\n",
    "\n",
    "    def __repr__(self) -> str:\n",
    "        return f'customer_id:{self.customer_id}, book_id:{self.book_id}, text:{self.review_text}, date:{self.review_time}, timestamp:{self.unix_time_stamp}'\n",
    "\n",
    "   "
   ]
  },
  {
   "cell_type": "code",
   "execution_count": null,
   "id": "44e8cdbb",
   "metadata": {},
   "outputs": [],
   "source": [
    "# create database\n",
    "engine = create_engine(\n",
    "    'mysql+pymysql://用户名:密码@IP地址:端口号/数据库')\n",
    "my_db = 'AmazonBookReview'\n",
    "with engine.connect() as conn:\n",
    "    query = f'CREATE DATABASE {my_db}'\n",
    "    conn.execute(text(query))"
   ]
  },
  {
   "cell_type": "code",
   "execution_count": null,
   "id": "fd8d973f",
   "metadata": {},
   "outputs": [],
   "source": [
    "# create table\n",
    "engine = create_engine(\n",
    "    f'mysql+pymysql://用户名:密码@IP地址:端口号/{my_db}')\n",
    "Base.metadata.create_all(engine)"
   ]
  },
  {
   "cell_type": "code",
   "execution_count": null,
   "id": "159f7922",
   "metadata": {},
   "outputs": [],
   "source": [
    "# check if create suceess\n",
    "with engine.connect() as conn:\n",
    "    query = f'SHOW TABLES;'\n",
    "    print(conn.execute(text(query)).fetchall())"
   ]
  },
  {
   "cell_type": "markdown",
   "id": "36d074f5",
   "metadata": {},
   "source": [
    "## Data reorganization\n",
    "Extract data from CSV and use pandas to insert it into the database."
   ]
  },
  {
   "cell_type": "code",
   "execution_count": 2,
   "id": "8a01023b",
   "metadata": {
    "tags": []
   },
   "outputs": [],
   "source": [
    "import pandas as pd\n",
    "data = pd.read_csv('./kindle_reviews.csv')"
   ]
  },
  {
   "cell_type": "markdown",
   "id": "bebc91b9",
   "metadata": {},
   "source": [
    "### Customer\n",
    "Define a dictionary to first store read data into a dictionary customer_dict (ID: name).\n",
    "Considering that the same customer may appear multiple times in the data set, it is necessary to check whether the ID exists.\n",
    "If the reviewerName column in the dataset is empty, check it with the isnull method and assign the value \"if it is empty."
   ]
  },
  {
   "cell_type": "code",
   "execution_count": 150,
   "id": "e6bb0636",
   "metadata": {},
   "outputs": [],
   "source": [
    "customer_dict = dict()\n",
    "for index, row in data[['reviewerID', 'reviewerName']].iterrows():\n",
    "    if row['reviewerID'] not in customer_dict:\n",
    "        customer_dict[row['reviewerID']] = None if pd.isnull(\n",
    "            row['reviewerName']) else row['reviewerName']\n"
   ]
  },
  {
   "cell_type": "code",
   "execution_count": 13,
   "id": "9f0844f2",
   "metadata": {},
   "outputs": [
    {
     "name": "stdout",
     "output_type": "stream",
     "text": [
      "amount of customer = 68223\n",
      "rows of data set =  982619\n"
     ]
    },
    {
     "data": {
      "text/html": [
       "<div>\n",
       "<style scoped>\n",
       "    .dataframe tbody tr th:only-of-type {\n",
       "        vertical-align: middle;\n",
       "    }\n",
       "\n",
       "    .dataframe tbody tr th {\n",
       "        vertical-align: top;\n",
       "    }\n",
       "\n",
       "    .dataframe thead th {\n",
       "        text-align: right;\n",
       "    }\n",
       "</style>\n",
       "<table border=\"1\" class=\"dataframe\">\n",
       "  <thead>\n",
       "    <tr style=\"text-align: right;\">\n",
       "      <th></th>\n",
       "      <th>Unnamed: 0</th>\n",
       "      <th>asin</th>\n",
       "      <th>helpful</th>\n",
       "      <th>overall</th>\n",
       "      <th>reviewText</th>\n",
       "      <th>reviewTime</th>\n",
       "      <th>reviewerID</th>\n",
       "      <th>reviewerName</th>\n",
       "      <th>summary</th>\n",
       "      <th>unixReviewTime</th>\n",
       "    </tr>\n",
       "  </thead>\n",
       "  <tbody>\n",
       "  </tbody>\n",
       "</table>\n",
       "</div>"
      ],
      "text/plain": [
       "Empty DataFrame\n",
       "Columns: [Unnamed: 0, asin, helpful, overall, reviewText, reviewTime, reviewerID, reviewerName, summary, unixReviewTime]\n",
       "Index: []"
      ]
     },
     "execution_count": 13,
     "metadata": {},
     "output_type": "execute_result"
    }
   ],
   "source": [
    "# Comparing the number of customers in customer_dict to the number of rows in the data is a big difference, and there is indeed a case of multiple user reviews\n",
    "print('amount of customer =',len(customer_dict.keys()))\n",
    "print('rows of data set = ',data.shape[0])"
   ]
  },
  {
   "cell_type": "markdown",
   "id": "9b996a69",
   "metadata": {},
   "source": [
    "Insert data"
   ]
  },
  {
   "cell_type": "code",
   "execution_count": 5,
   "id": "545282b6",
   "metadata": {},
   "outputs": [],
   "source": [
    "from sqlalchemy import engine,create_engine\n",
    "my_db = 'AmazonBookReview'\n",
    "engine = create_engine(\n",
    "    f'mysql+pymysql://用户名:密码@IP地址:端口号/{my_db}')\n"
   ]
  },
  {
   "cell_type": "markdown",
   "id": "e68d8185",
   "metadata": {},
   "source": [
    "Iterate over the dictionary customer_dict, creating objects with customer_id and customer_name, and store the objects in the list customers.\n",
    "Use the add_all method to insert the list as data into the database's table customer."
   ]
  },
  {
   "cell_type": "code",
   "execution_count": 152,
   "id": "1a40569f",
   "metadata": {},
   "outputs": [],
   "source": [
    "from sqlalchemy.orm import Session\n",
    "\n",
    "customers = list()\n",
    "for customer_id, customer_name in customer_dict.items():\n",
    "    customers.append(Customer(id=str(customer_id),name=customer_name ))\n",
    "\n",
    "with Session(engine) as session:\n",
    "    session.add_all(customers)\n",
    "    session.commit()\n"
   ]
  },
  {
   "cell_type": "code",
   "execution_count": 20,
   "id": "2a9ebf68",
   "metadata": {},
   "outputs": [
    {
     "name": "stdout",
     "output_type": "stream",
     "text": [
      "[(68223,)]\n"
     ]
    }
   ],
   "source": [
    "# check how many data inserted\n",
    "from sqlalchemy import text\n",
    "with engine.connect() as conn:\n",
    "    query = 'SELECT COUNT(1) FROM customer'\n",
    "    print(conn.execute(text(query)).fetchall())"
   ]
  },
  {
   "cell_type": "markdown",
   "id": "7c1c14b1",
   "metadata": {},
   "source": [
    "### Books\n",
    "\n",
    "Use the collection to store the ID of the book, and the collection is automatically deduplicated."
   ]
  },
  {
   "cell_type": "code",
   "execution_count": 3,
   "id": "bd9e3e4e",
   "metadata": {
    "tags": []
   },
   "outputs": [],
   "source": [
    "books = set()\n",
    "for book_id in data['asin']:\n",
    "    books.add(book_id)"
   ]
  },
  {
   "cell_type": "code",
   "execution_count": 155,
   "id": "cab7070c",
   "metadata": {},
   "outputs": [],
   "source": [
    "from sqlalchemy.orm import Session\n",
    "\n",
    "book_list = [Book(id=book_id) for book_id in books]\n",
    "with Session(engine) as session:\n",
    "    session.add_all(book_list)\n",
    "    session.commit()\n"
   ]
  },
  {
   "cell_type": "code",
   "execution_count": 26,
   "id": "97ad1da3",
   "metadata": {},
   "outputs": [
    {
     "name": "stdout",
     "output_type": "stream",
     "text": [
      "[(61934,)]\n"
     ]
    }
   ],
   "source": [
    "# check how many data inserted\n",
    "from sqlalchemy import text\n",
    "with engine.connect() as conn:\n",
    "    query = 'SELECT COUNT(1) FROM book'\n",
    "    print(conn.execute(text(query)).fetchall())"
   ]
  },
  {
   "cell_type": "markdown",
   "id": "88304405",
   "metadata": {},
   "source": [
    "### Reviews"
   ]
  },
  {
   "cell_type": "code",
   "execution_count": 4,
   "id": "f6d3abf1",
   "metadata": {},
   "outputs": [
    {
     "name": "stdout",
     "output_type": "stream",
     "text": [
      "982619\n"
     ]
    }
   ],
   "source": [
    "from datetime import datetime\n",
    "reviews = list()\n",
    "for index, row in data[['reviewerID', 'asin', 'reviewText', 'reviewTime', 'helpful', 'summary', 'unixReviewTime']].iterrows():\n",
    "    help_not = [int(i) for i in row['helpful'].removeprefix(\n",
    "        '[').removesuffix(']').split(',')]\n",
    "    reviews.append(Review(\n",
    "        customer_id=str(row['reviewerID']), book_id=str(row['asin']),\n",
    "        review_text=None if pd.isnull(\n",
    "            row['reviewText']) else row['reviewText'],\n",
    "        helpful=help_not[0], not_helpful=help_not[1],\n",
    "        summary=None if pd.isnull(row['summary']) else row['summary'],\n",
    "        review_time=datetime.strptime(row['reviewTime'], '%m %d, %Y').date(),\n",
    "        unix_time_stamp=datetime.fromtimestamp(row['unixReviewTime'])))\n",
    "\n",
    "print(len(reviews))\n"
   ]
  },
  {
   "cell_type": "code",
   "execution_count": 6,
   "id": "57b9fa40",
   "metadata": {},
   "outputs": [],
   "source": [
    "from sqlalchemy.orm import Session\n",
    "\n",
    "with Session(engine) as session:\n",
    "    session.add_all(reviews)\n",
    "    session.commit()\n"
   ]
  }
 ],
 "metadata": {
  "kernelspec": {
   "display_name": "Python 3 (ipykernel)",
   "language": "python",
   "name": "python3"
  },
  "language_info": {
   "codemirror_mode": {
    "name": "ipython",
    "version": 3
   },
   "file_extension": ".py",
   "mimetype": "text/x-python",
   "name": "python",
   "nbconvert_exporter": "python",
   "pygments_lexer": "ipython3",
   "version": "3.8.12"
  }
 },
 "nbformat": 4,
 "nbformat_minor": 5
}
